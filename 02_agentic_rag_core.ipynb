{
 "cells": [
  {
   "cell_type": "markdown",
   "id": "ec56617f",
   "metadata": {
    "id": "ec56617f"
   },
   "source": [
    "# 📘 Agentic RAG Core Notebook\n",
    "This notebook implements a LangGraph-based RAG pipeline using modular agents."
   ]
  },
  {
   "cell_type": "code",
   "execution_count": 1,
   "id": "01190510",
   "metadata": {
    "executionInfo": {
     "elapsed": 2,
     "status": "ok",
     "timestamp": 1754010357369,
     "user": {
      "displayName": "Malav Parekh",
      "userId": "13436059546930431015"
     },
     "user_tz": 420
    },
    "id": "01190510"
   },
   "outputs": [],
   "source": [
    "# Set base path for project\n",
    "import os\n",
    "import sys\n",
    "\n",
    "base_path = os.path.abspath(os.path.join(os.getcwd()))\n",
    "sys.path.append(os.path.join(base_path, \"src\"))"
   ]
  },
  {
   "cell_type": "code",
   "execution_count": 2,
   "id": "0ef16d47",
   "metadata": {
    "colab": {
     "base_uri": "https://localhost:8080/"
    },
    "collapsed": true,
    "executionInfo": {
     "elapsed": 88877,
     "status": "ok",
     "timestamp": 1754008100067,
     "user": {
      "displayName": "Malav Parekh",
      "userId": "13436059546930431015"
     },
     "user_tz": 420
    },
    "id": "0ef16d47",
    "outputId": "384235f0-d8e2-4494-c1e4-0ecdd31524bd"
   },
   "outputs": [
    {
     "name": "stdout",
     "output_type": "stream",
     "text": [
      "Requirement already satisfied: langgraph in ./venv/lib/python3.9/site-packages (0.6.2)\n",
      "Requirement already satisfied: faiss-cpu in ./venv/lib/python3.9/site-packages (1.11.0.post1)\n",
      "Requirement already satisfied: sentence-transformers in ./venv/lib/python3.9/site-packages (5.0.0)\n",
      "Requirement already satisfied: pdfplumber in ./venv/lib/python3.9/site-packages (0.11.7)\n",
      "Requirement already satisfied: openai in ./venv/lib/python3.9/site-packages (0.28.0)\n",
      "Requirement already satisfied: langchain-core>=0.1 in ./venv/lib/python3.9/site-packages (from langgraph) (0.3.72)\n",
      "Requirement already satisfied: langgraph-checkpoint<3.0.0,>=2.1.0 in ./venv/lib/python3.9/site-packages (from langgraph) (2.1.1)\n",
      "Requirement already satisfied: langgraph-prebuilt<0.7.0,>=0.6.0 in ./venv/lib/python3.9/site-packages (from langgraph) (0.6.2)\n",
      "Requirement already satisfied: langgraph-sdk<0.3.0,>=0.2.0 in ./venv/lib/python3.9/site-packages (from langgraph) (0.2.0)\n",
      "Requirement already satisfied: pydantic>=2.7.4 in ./venv/lib/python3.9/site-packages (from langgraph) (2.11.7)\n",
      "Requirement already satisfied: xxhash>=3.5.0 in ./venv/lib/python3.9/site-packages (from langgraph) (3.5.0)\n",
      "Requirement already satisfied: ormsgpack>=1.10.0 in ./venv/lib/python3.9/site-packages (from langgraph-checkpoint<3.0.0,>=2.1.0->langgraph) (1.10.0)\n",
      "Requirement already satisfied: httpx>=0.25.2 in ./venv/lib/python3.9/site-packages (from langgraph-sdk<0.3.0,>=0.2.0->langgraph) (0.28.1)\n",
      "Requirement already satisfied: orjson>=3.10.1 in ./venv/lib/python3.9/site-packages (from langgraph-sdk<0.3.0,>=0.2.0->langgraph) (3.11.1)\n",
      "Requirement already satisfied: numpy<3.0,>=1.25.0 in ./venv/lib/python3.9/site-packages (from faiss-cpu) (2.0.2)\n",
      "Requirement already satisfied: packaging in ./venv/lib/python3.9/site-packages (from faiss-cpu) (25.0)\n",
      "Requirement already satisfied: transformers<5.0.0,>=4.41.0 in ./venv/lib/python3.9/site-packages (from sentence-transformers) (4.54.1)\n",
      "Requirement already satisfied: tqdm in ./venv/lib/python3.9/site-packages (from sentence-transformers) (4.67.1)\n",
      "Requirement already satisfied: torch>=1.11.0 in ./venv/lib/python3.9/site-packages (from sentence-transformers) (2.7.1)\n",
      "Requirement already satisfied: scikit-learn in ./venv/lib/python3.9/site-packages (from sentence-transformers) (1.6.1)\n",
      "Requirement already satisfied: scipy in ./venv/lib/python3.9/site-packages (from sentence-transformers) (1.13.1)\n",
      "Requirement already satisfied: huggingface-hub>=0.20.0 in ./venv/lib/python3.9/site-packages (from sentence-transformers) (0.34.3)\n",
      "Requirement already satisfied: Pillow in ./venv/lib/python3.9/site-packages (from sentence-transformers) (11.3.0)\n",
      "Requirement already satisfied: typing_extensions>=4.5.0 in ./venv/lib/python3.9/site-packages (from sentence-transformers) (4.14.1)\n",
      "Requirement already satisfied: filelock in ./venv/lib/python3.9/site-packages (from transformers<5.0.0,>=4.41.0->sentence-transformers) (3.18.0)\n",
      "Requirement already satisfied: pyyaml>=5.1 in ./venv/lib/python3.9/site-packages (from transformers<5.0.0,>=4.41.0->sentence-transformers) (6.0.2)\n",
      "Requirement already satisfied: regex!=2019.12.17 in ./venv/lib/python3.9/site-packages (from transformers<5.0.0,>=4.41.0->sentence-transformers) (2025.7.34)\n",
      "Requirement already satisfied: requests in ./venv/lib/python3.9/site-packages (from transformers<5.0.0,>=4.41.0->sentence-transformers) (2.32.4)\n",
      "Requirement already satisfied: tokenizers<0.22,>=0.21 in ./venv/lib/python3.9/site-packages (from transformers<5.0.0,>=4.41.0->sentence-transformers) (0.21.4)\n",
      "Requirement already satisfied: safetensors>=0.4.3 in ./venv/lib/python3.9/site-packages (from transformers<5.0.0,>=4.41.0->sentence-transformers) (0.5.3)\n",
      "Requirement already satisfied: fsspec>=2023.5.0 in ./venv/lib/python3.9/site-packages (from huggingface-hub>=0.20.0->sentence-transformers) (2025.7.0)\n",
      "Requirement already satisfied: hf-xet<2.0.0,>=1.1.3 in ./venv/lib/python3.9/site-packages (from huggingface-hub>=0.20.0->sentence-transformers) (1.1.5)\n",
      "Requirement already satisfied: pdfminer.six==20250506 in ./venv/lib/python3.9/site-packages (from pdfplumber) (20250506)\n",
      "Requirement already satisfied: pypdfium2>=4.18.0 in ./venv/lib/python3.9/site-packages (from pdfplumber) (4.30.0)\n",
      "Requirement already satisfied: charset-normalizer>=2.0.0 in ./venv/lib/python3.9/site-packages (from pdfminer.six==20250506->pdfplumber) (3.4.2)\n",
      "Requirement already satisfied: cryptography>=36.0.0 in ./venv/lib/python3.9/site-packages (from pdfminer.six==20250506->pdfplumber) (45.0.5)\n",
      "Requirement already satisfied: aiohttp in ./venv/lib/python3.9/site-packages (from openai) (3.12.15)\n",
      "Requirement already satisfied: cffi>=1.14 in ./venv/lib/python3.9/site-packages (from cryptography>=36.0.0->pdfminer.six==20250506->pdfplumber) (1.17.1)\n",
      "Requirement already satisfied: pycparser in ./venv/lib/python3.9/site-packages (from cffi>=1.14->cryptography>=36.0.0->pdfminer.six==20250506->pdfplumber) (2.22)\n",
      "Requirement already satisfied: anyio in ./venv/lib/python3.9/site-packages (from httpx>=0.25.2->langgraph-sdk<0.3.0,>=0.2.0->langgraph) (4.9.0)\n",
      "Requirement already satisfied: certifi in ./venv/lib/python3.9/site-packages (from httpx>=0.25.2->langgraph-sdk<0.3.0,>=0.2.0->langgraph) (2025.7.14)\n",
      "Requirement already satisfied: httpcore==1.* in ./venv/lib/python3.9/site-packages (from httpx>=0.25.2->langgraph-sdk<0.3.0,>=0.2.0->langgraph) (1.0.9)\n",
      "Requirement already satisfied: idna in ./venv/lib/python3.9/site-packages (from httpx>=0.25.2->langgraph-sdk<0.3.0,>=0.2.0->langgraph) (3.10)\n",
      "Requirement already satisfied: h11>=0.16 in ./venv/lib/python3.9/site-packages (from httpcore==1.*->httpx>=0.25.2->langgraph-sdk<0.3.0,>=0.2.0->langgraph) (0.16.0)\n",
      "Requirement already satisfied: langsmith>=0.3.45 in ./venv/lib/python3.9/site-packages (from langchain-core>=0.1->langgraph) (0.4.9)\n",
      "Requirement already satisfied: tenacity!=8.4.0,<10.0.0,>=8.1.0 in ./venv/lib/python3.9/site-packages (from langchain-core>=0.1->langgraph) (9.1.2)\n",
      "Requirement already satisfied: jsonpatch<2.0,>=1.33 in ./venv/lib/python3.9/site-packages (from langchain-core>=0.1->langgraph) (1.33)\n",
      "Requirement already satisfied: jsonpointer>=1.9 in ./venv/lib/python3.9/site-packages (from jsonpatch<2.0,>=1.33->langchain-core>=0.1->langgraph) (3.0.0)\n",
      "Requirement already satisfied: requests-toolbelt<2.0.0,>=1.0.0 in ./venv/lib/python3.9/site-packages (from langsmith>=0.3.45->langchain-core>=0.1->langgraph) (1.0.0)\n",
      "Requirement already satisfied: zstandard<0.24.0,>=0.23.0 in ./venv/lib/python3.9/site-packages (from langsmith>=0.3.45->langchain-core>=0.1->langgraph) (0.23.0)\n",
      "Requirement already satisfied: annotated-types>=0.6.0 in ./venv/lib/python3.9/site-packages (from pydantic>=2.7.4->langgraph) (0.7.0)\n",
      "Requirement already satisfied: pydantic-core==2.33.2 in ./venv/lib/python3.9/site-packages (from pydantic>=2.7.4->langgraph) (2.33.2)\n",
      "Requirement already satisfied: typing-inspection>=0.4.0 in ./venv/lib/python3.9/site-packages (from pydantic>=2.7.4->langgraph) (0.4.1)\n",
      "Requirement already satisfied: urllib3<3,>=1.21.1 in ./venv/lib/python3.9/site-packages (from requests->transformers<5.0.0,>=4.41.0->sentence-transformers) (2.5.0)\n",
      "Requirement already satisfied: sympy>=1.13.3 in ./venv/lib/python3.9/site-packages (from torch>=1.11.0->sentence-transformers) (1.14.0)\n",
      "Requirement already satisfied: networkx in ./venv/lib/python3.9/site-packages (from torch>=1.11.0->sentence-transformers) (3.2.1)\n",
      "Requirement already satisfied: jinja2 in ./venv/lib/python3.9/site-packages (from torch>=1.11.0->sentence-transformers) (3.1.6)\n",
      "Requirement already satisfied: mpmath<1.4,>=1.1.0 in ./venv/lib/python3.9/site-packages (from sympy>=1.13.3->torch>=1.11.0->sentence-transformers) (1.3.0)\n",
      "Requirement already satisfied: aiohappyeyeballs>=2.5.0 in ./venv/lib/python3.9/site-packages (from aiohttp->openai) (2.6.1)\n",
      "Requirement already satisfied: aiosignal>=1.4.0 in ./venv/lib/python3.9/site-packages (from aiohttp->openai) (1.4.0)\n",
      "Requirement already satisfied: async-timeout<6.0,>=4.0 in ./venv/lib/python3.9/site-packages (from aiohttp->openai) (5.0.1)\n",
      "Requirement already satisfied: attrs>=17.3.0 in ./venv/lib/python3.9/site-packages (from aiohttp->openai) (25.3.0)\n",
      "Requirement already satisfied: frozenlist>=1.1.1 in ./venv/lib/python3.9/site-packages (from aiohttp->openai) (1.7.0)\n",
      "Requirement already satisfied: multidict<7.0,>=4.5 in ./venv/lib/python3.9/site-packages (from aiohttp->openai) (6.6.3)\n",
      "Requirement already satisfied: propcache>=0.2.0 in ./venv/lib/python3.9/site-packages (from aiohttp->openai) (0.3.2)\n",
      "Requirement already satisfied: yarl<2.0,>=1.17.0 in ./venv/lib/python3.9/site-packages (from aiohttp->openai) (1.20.1)\n",
      "Requirement already satisfied: exceptiongroup>=1.0.2 in ./venv/lib/python3.9/site-packages (from anyio->httpx>=0.25.2->langgraph-sdk<0.3.0,>=0.2.0->langgraph) (1.3.0)\n",
      "Requirement already satisfied: sniffio>=1.1 in ./venv/lib/python3.9/site-packages (from anyio->httpx>=0.25.2->langgraph-sdk<0.3.0,>=0.2.0->langgraph) (1.3.1)\n",
      "Requirement already satisfied: MarkupSafe>=2.0 in ./venv/lib/python3.9/site-packages (from jinja2->torch>=1.11.0->sentence-transformers) (3.0.2)\n",
      "Requirement already satisfied: joblib>=1.2.0 in ./venv/lib/python3.9/site-packages (from scikit-learn->sentence-transformers) (1.5.1)\n",
      "Requirement already satisfied: threadpoolctl>=3.1.0 in ./venv/lib/python3.9/site-packages (from scikit-learn->sentence-transformers) (3.6.0)\n",
      "\n",
      "\u001b[1m[\u001b[0m\u001b[34;49mnotice\u001b[0m\u001b[1;39;49m]\u001b[0m\u001b[39;49m A new release of pip is available: \u001b[0m\u001b[31;49m25.1.1\u001b[0m\u001b[39;49m -> \u001b[0m\u001b[32;49m25.2\u001b[0m\n",
      "\u001b[1m[\u001b[0m\u001b[34;49mnotice\u001b[0m\u001b[1;39;49m]\u001b[0m\u001b[39;49m To update, run: \u001b[0m\u001b[32;49mpip install --upgrade pip\u001b[0m\n",
      "Note: you may need to restart the kernel to use updated packages.\n"
     ]
    }
   ],
   "source": [
    "# Install dependencies\n",
    "%pip install langgraph faiss-cpu sentence-transformers pdfplumber openai\n"
   ]
  },
  {
   "cell_type": "code",
   "execution_count": 3,
   "id": "a083f128",
   "metadata": {},
   "outputs": [
    {
     "name": "stdout",
     "output_type": "stream",
     "text": [
      "Requirement already satisfied: openai==0.28 in ./venv/lib/python3.9/site-packages (0.28.0)\n",
      "Requirement already satisfied: requests>=2.20 in ./venv/lib/python3.9/site-packages (from openai==0.28) (2.32.4)\n",
      "Requirement already satisfied: tqdm in ./venv/lib/python3.9/site-packages (from openai==0.28) (4.67.1)\n",
      "Requirement already satisfied: aiohttp in ./venv/lib/python3.9/site-packages (from openai==0.28) (3.12.15)\n",
      "Requirement already satisfied: charset_normalizer<4,>=2 in ./venv/lib/python3.9/site-packages (from requests>=2.20->openai==0.28) (3.4.2)\n",
      "Requirement already satisfied: idna<4,>=2.5 in ./venv/lib/python3.9/site-packages (from requests>=2.20->openai==0.28) (3.10)\n",
      "Requirement already satisfied: urllib3<3,>=1.21.1 in ./venv/lib/python3.9/site-packages (from requests>=2.20->openai==0.28) (2.5.0)\n",
      "Requirement already satisfied: certifi>=2017.4.17 in ./venv/lib/python3.9/site-packages (from requests>=2.20->openai==0.28) (2025.7.14)\n",
      "Requirement already satisfied: aiohappyeyeballs>=2.5.0 in ./venv/lib/python3.9/site-packages (from aiohttp->openai==0.28) (2.6.1)\n",
      "Requirement already satisfied: aiosignal>=1.4.0 in ./venv/lib/python3.9/site-packages (from aiohttp->openai==0.28) (1.4.0)\n",
      "Requirement already satisfied: async-timeout<6.0,>=4.0 in ./venv/lib/python3.9/site-packages (from aiohttp->openai==0.28) (5.0.1)\n",
      "Requirement already satisfied: attrs>=17.3.0 in ./venv/lib/python3.9/site-packages (from aiohttp->openai==0.28) (25.3.0)\n",
      "Requirement already satisfied: frozenlist>=1.1.1 in ./venv/lib/python3.9/site-packages (from aiohttp->openai==0.28) (1.7.0)\n",
      "Requirement already satisfied: multidict<7.0,>=4.5 in ./venv/lib/python3.9/site-packages (from aiohttp->openai==0.28) (6.6.3)\n",
      "Requirement already satisfied: propcache>=0.2.0 in ./venv/lib/python3.9/site-packages (from aiohttp->openai==0.28) (0.3.2)\n",
      "Requirement already satisfied: yarl<2.0,>=1.17.0 in ./venv/lib/python3.9/site-packages (from aiohttp->openai==0.28) (1.20.1)\n",
      "Requirement already satisfied: typing-extensions>=4.1.0 in ./venv/lib/python3.9/site-packages (from multidict<7.0,>=4.5->aiohttp->openai==0.28) (4.14.1)\n",
      "\n",
      "\u001b[1m[\u001b[0m\u001b[34;49mnotice\u001b[0m\u001b[1;39;49m]\u001b[0m\u001b[39;49m A new release of pip is available: \u001b[0m\u001b[31;49m25.1.1\u001b[0m\u001b[39;49m -> \u001b[0m\u001b[32;49m25.2\u001b[0m\n",
      "\u001b[1m[\u001b[0m\u001b[34;49mnotice\u001b[0m\u001b[1;39;49m]\u001b[0m\u001b[39;49m To update, run: \u001b[0m\u001b[32;49mpip install --upgrade pip\u001b[0m\n",
      "Note: you may need to restart the kernel to use updated packages.\n"
     ]
    }
   ],
   "source": [
    "%pip install openai==0.28"
   ]
  },
  {
   "cell_type": "code",
   "execution_count": 4,
   "id": "52f673a0",
   "metadata": {},
   "outputs": [
    {
     "name": "stdout",
     "output_type": "stream",
     "text": [
      "Requirement already satisfied: python-dotenv in ./venv/lib/python3.9/site-packages (1.1.1)\n",
      "\n",
      "\u001b[1m[\u001b[0m\u001b[34;49mnotice\u001b[0m\u001b[1;39;49m]\u001b[0m\u001b[39;49m A new release of pip is available: \u001b[0m\u001b[31;49m25.1.1\u001b[0m\u001b[39;49m -> \u001b[0m\u001b[32;49m25.2\u001b[0m\n",
      "\u001b[1m[\u001b[0m\u001b[34;49mnotice\u001b[0m\u001b[1;39;49m]\u001b[0m\u001b[39;49m To update, run: \u001b[0m\u001b[32;49mpip install --upgrade pip\u001b[0m\n",
      "Note: you may need to restart the kernel to use updated packages.\n"
     ]
    }
   ],
   "source": [
    "%pip install python-dotenv"
   ]
  },
  {
   "cell_type": "code",
   "execution_count": 5,
   "id": "fabe609d",
   "metadata": {},
   "outputs": [],
   "source": [
    "from dotenv import load_dotenv\n",
    "load_dotenv()\n",
    "OPENAI_API_KEY = os.getenv(\"OPENAI_API_KEY\")"
   ]
  },
  {
   "cell_type": "code",
   "execution_count": 6,
   "id": "FSmXbWyUFFdg",
   "metadata": {
    "colab": {
     "base_uri": "https://localhost:8080/",
     "height": 393
    },
    "executionInfo": {
     "elapsed": 18,
     "status": "error",
     "timestamp": 1754010504876,
     "user": {
      "displayName": "Malav Parekh",
      "userId": "13436059546930431015"
     },
     "user_tz": 420
    },
    "id": "FSmXbWyUFFdg",
    "outputId": "cc772e98-ea32-4100-a838-47be0a94dfa8"
   },
   "outputs": [
    {
     "name": "stderr",
     "output_type": "stream",
     "text": [
      "/Users/samo13loaner05/Desktop/PharmAGen/venv/lib/python3.9/site-packages/tqdm/auto.py:21: TqdmWarning: IProgress not found. Please update jupyter and ipywidgets. See https://ipywidgets.readthedocs.io/en/stable/user_install.html\n",
      "  from .autonotebook import tqdm as notebook_tqdm\n"
     ]
    }
   ],
   "source": [
    "from utils.pdf_utils import extract_text_from_pdf, clean_text, chunk_text\n",
    "from agents.embedder_agent import EmbedderAgent\n",
    "from agents.retriever_agent import RetrieverAgent\n",
    "from agents.qa_agent import QAAgent\n",
    "from langgraph.graph import StateGraph"
   ]
  },
  {
   "cell_type": "markdown",
   "id": "957a716e",
   "metadata": {
    "id": "957a716e"
   },
   "source": [
    "## Step 1: Load and Chunk PDF"
   ]
  },
  {
   "cell_type": "code",
   "execution_count": 7,
   "id": "b4395e26",
   "metadata": {
    "id": "b4395e26"
   },
   "outputs": [],
   "source": [
    "file_path = f\"{base_path}/data/pharmacology_review.pdf\"\n",
    "raw_text = extract_text_from_pdf(file_path)\n",
    "cleaned = clean_text(raw_text)\n",
    "chunks = chunk_text(cleaned)\n"
   ]
  },
  {
   "cell_type": "markdown",
   "id": "2155e57f",
   "metadata": {
    "id": "2155e57f"
   },
   "source": [
    "## Step 2: Initialize Agents"
   ]
  },
  {
   "cell_type": "code",
   "execution_count": 8,
   "id": "700cc22d",
   "metadata": {
    "colab": {
     "base_uri": "https://localhost:8080/"
    },
    "executionInfo": {
     "elapsed": 7,
     "status": "ok",
     "timestamp": 1754009447624,
     "user": {
      "displayName": "Malav Parekh",
      "userId": "13436059546930431015"
     },
     "user_tz": 420
    },
    "id": "700cc22d",
    "outputId": "8cfe37ce-0608-4241-fdb2-b6c9a81a5d0f"
   },
   "outputs": [
    {
     "name": "stdout",
     "output_type": "stream",
     "text": [
      "Current base_path: /Users/samo13loaner05/Desktop/PharmAGen\n",
      "Contents of /Users/samo13loaner05/Desktop/PharmAGen:\n",
      ".DS_Store\n",
      "requirements.txt\n",
      "02_agentic_rag_core.ipynb\n",
      ".gitignore\n",
      ".env\n",
      "venv\n",
      ".git\n",
      ".vscode\n",
      "data\n",
      "outputs\n",
      "notebooks\n",
      "src\n"
     ]
    }
   ],
   "source": [
    "import os\n",
    "\n",
    "print(f\"Current base_path: {base_path}\")\n",
    "print(f\"Contents of {base_path}:\")\n",
    "try:\n",
    "    for item in os.listdir(base_path):\n",
    "        print(item)\n",
    "except FileNotFoundError:\n",
    "    print(f\"Error: Directory not found at {base_path}\")"
   ]
  },
  {
   "cell_type": "code",
   "execution_count": 9,
   "id": "3d7c8726",
   "metadata": {
    "id": "3d7c8726"
   },
   "outputs": [
    {
     "name": "stderr",
     "output_type": "stream",
     "text": [
      "/Users/samo13loaner05/Desktop/PharmAGen/venv/lib/python3.9/site-packages/torch/nn/modules/module.py:1762: FutureWarning: `encoder_attention_mask` is deprecated and will be removed in version 4.55.0 for `BertSdpaSelfAttention.forward`.\n",
      "  return forward_call(*args, **kwargs)\n"
     ]
    }
   ],
   "source": [
    "embedder = EmbedderAgent()\n",
    "retriever = RetrieverAgent(chunks, embedder)\n",
    "qa_agent = QAAgent()\n"
   ]
  },
  {
   "cell_type": "markdown",
   "id": "81e40f44",
   "metadata": {
    "id": "81e40f44"
   },
   "source": [
    "## Step 3: Build LangGraph"
   ]
  },
  {
   "cell_type": "code",
   "execution_count": 10,
   "id": "c88dcebe",
   "metadata": {},
   "outputs": [],
   "source": [
    "from langgraph.graph import StateGraph\n",
    "from typing import TypedDict, List"
   ]
  },
  {
   "cell_type": "code",
   "execution_count": 12,
   "id": "a5fcd63e",
   "metadata": {
    "id": "a5fcd63e"
   },
   "outputs": [],
   "source": [
    "class RAGState(TypedDict):\n",
    "    query: str\n",
    "    query_embedding: List[float]\n",
    "    retrieved_chunks: List[str]\n",
    "    answer: str\n",
    "\n",
    "builder = StateGraph(RAGState)\n",
    "\n",
    "builder.add_node(\"embedder\", embedder.run)\n",
    "builder.add_node(\"retriever\", retriever.run)\n",
    "builder.add_node(\"qa\", qa_agent.run)\n",
    "\n",
    "builder.set_entry_point(\"embedder\")\n",
    "builder.add_edge(\"embedder\", \"retriever\")\n",
    "builder.add_edge(\"retriever\", \"qa\")\n",
    "\n",
    "graph = builder.compile()"
   ]
  },
  {
   "cell_type": "markdown",
   "id": "3b3380d0",
   "metadata": {
    "id": "3b3380d0"
   },
   "source": [
    "## Step 4: Query the Graph"
   ]
  },
  {
   "cell_type": "code",
   "execution_count": null,
   "id": "143a959a",
   "metadata": {
    "id": "143a959a"
   },
   "outputs": [
    {
     "name": "stdout",
     "output_type": "stream",
     "text": [
      "{'query': 'What is the half-life of Semaglutide?', 'query_embedding': array([-2.45255344e-02,  1.97728965e-02, -2.34427652e-03,  6.53356761e-02,\n",
      "       -4.13661003e-02, -9.75445732e-02, -7.67604560e-02,  1.07920542e-01,\n",
      "        1.23784868e-02, -1.37841394e-02, -1.74341928e-02, -4.72524911e-02,\n",
      "        1.10178266e-03, -3.14479321e-02, -3.39602008e-02,  3.70279737e-02,\n",
      "        5.87818101e-02, -9.42537412e-02, -1.10493936e-02,  1.75741557e-02,\n",
      "        6.49396237e-03, -2.39969045e-02, -1.57541726e-02,  3.60591933e-02,\n",
      "        5.54192513e-02,  1.90579332e-02, -9.91290584e-02, -3.53672206e-02,\n",
      "       -4.42136079e-02, -2.35726796e-02,  1.81931071e-02, -2.72807840e-04,\n",
      "        4.53015156e-02, -1.64316036e-02,  9.81429871e-03,  3.47209051e-02,\n",
      "       -3.01048364e-02, -1.90009177e-02,  5.66143123e-03,  5.46779223e-02,\n",
      "       -5.58175594e-02, -4.56829071e-02, -1.01273127e-01,  2.21272539e-02,\n",
      "       -1.74234305e-02, -1.11801349e-01, -3.46443579e-02,  1.79802421e-02,\n",
      "        4.41783294e-03,  1.64321527e-01, -5.57015724e-02, -3.90518717e-02,\n",
      "       -8.10667649e-02,  2.74761431e-02,  7.52232522e-02, -5.19070439e-02,\n",
      "       -7.19740912e-02,  4.67608683e-02, -3.23368832e-02,  1.15939908e-01,\n",
      "       -3.18178497e-02,  1.29455770e-03, -1.40633956e-02, -2.38179509e-02,\n",
      "        6.86718449e-02, -9.96460691e-02,  6.41569421e-02, -1.31858960e-01,\n",
      "        1.50884576e-02,  4.22364734e-02, -5.44051491e-02, -6.81556091e-02,\n",
      "       -4.25991928e-03,  4.64157463e-04, -6.37490526e-02, -3.18428166e-02,\n",
      "        3.14860456e-02, -7.64236003e-02,  3.71964928e-03, -7.37531632e-02,\n",
      "        3.72721776e-02,  3.40460651e-02,  5.18281832e-02,  4.63626571e-02,\n",
      "       -1.14849079e-02, -1.62150734e-03,  4.99417931e-02,  9.30784270e-02,\n",
      "       -1.63252279e-03,  3.36854048e-02,  7.96170980e-02,  1.15724035e-01,\n",
      "       -1.48423221e-02, -6.70286268e-02,  2.91492119e-02,  6.11171275e-02,\n",
      "       -2.33212132e-02,  1.27020646e-02,  1.61184836e-02,  4.10848856e-03,\n",
      "       -9.35869738e-02, -2.14854628e-02, -4.40400913e-02, -1.07402757e-01,\n",
      "       -2.92037651e-02,  2.78432597e-03, -3.41687128e-02,  5.83702214e-02,\n",
      "        1.81899630e-02,  1.39638325e-02,  4.77055050e-02, -1.58370417e-02,\n",
      "        1.35511206e-02,  4.80878651e-02,  2.58561149e-02,  8.90865400e-02,\n",
      "        3.40563022e-02,  2.52275411e-02,  9.56924930e-02,  2.87237838e-02,\n",
      "        3.61234024e-02, -9.00282711e-02,  2.41610557e-02, -2.22024936e-02,\n",
      "       -3.16054411e-02,  7.43215978e-02,  6.09373711e-02, -3.21693939e-33,\n",
      "        2.14676876e-02, -4.61021028e-02,  1.99194644e-02,  6.89412057e-02,\n",
      "       -1.36091575e-01,  3.33702713e-02, -4.33617085e-02,  2.23799553e-02,\n",
      "       -7.44460523e-02, -2.93978341e-02, -2.48836298e-02, -5.56451604e-02,\n",
      "       -1.55658601e-02,  6.72287643e-02,  7.20129209e-03, -6.39330875e-03,\n",
      "       -3.47081833e-02, -2.50296686e-02, -2.88568921e-02, -1.12425268e-01,\n",
      "        2.79132482e-02,  4.71981280e-02, -1.85141992e-02,  1.38903121e-02,\n",
      "        3.09465397e-02,  2.33083852e-02,  1.66501459e-02,  5.63879609e-02,\n",
      "       -3.16254720e-02, -4.51633474e-04,  1.01031840e-01,  4.48182262e-02,\n",
      "       -9.59349871e-02, -4.81303036e-02,  3.60280313e-02,  1.78075898e-02,\n",
      "        9.43287928e-03,  6.81216717e-02, -3.04523762e-02,  4.51132953e-02,\n",
      "       -1.20390570e-02,  4.46370095e-02,  2.97171082e-02, -8.47746432e-02,\n",
      "        1.40253296e-02, -9.23467129e-02, -1.69279873e-02,  8.85715801e-03,\n",
      "        3.15220058e-02, -2.47289217e-03,  3.85824814e-02,  1.50640728e-02,\n",
      "       -4.70807478e-02,  5.26636206e-02, -2.61094589e-02,  6.72606975e-02,\n",
      "        1.88182779e-02, -5.55697344e-02,  4.75073270e-02,  9.64119136e-02,\n",
      "        7.49675855e-02, -7.47904927e-03,  2.63593011e-02, -5.62780909e-02,\n",
      "        3.94689664e-02,  9.32216272e-02, -9.03406814e-02, -4.05306369e-02,\n",
      "       -3.71959470e-02, -3.75902392e-02,  3.79738621e-02, -2.45156400e-02,\n",
      "        2.15816982e-02, -6.73307106e-02,  2.00250652e-02, -9.78639275e-02,\n",
      "       -5.24135679e-03,  8.68548825e-02, -1.76746547e-02,  6.73097596e-02,\n",
      "        3.09610693e-03, -8.74720365e-02,  3.21275964e-02, -2.17682924e-02,\n",
      "       -3.33590023e-02, -4.80021983e-02, -5.15454868e-03, -9.94252134e-03,\n",
      "       -8.13853666e-02,  4.74840142e-02, -6.98347809e-03, -8.62302780e-02,\n",
      "       -2.74593625e-02, -3.09397019e-02,  5.49468119e-03,  6.75122176e-34,\n",
      "        2.31235027e-02, -6.47318587e-02, -5.68685401e-03,  9.41411108e-02,\n",
      "       -4.04029563e-02,  3.78616452e-02, -4.64142784e-02,  1.69661701e-01,\n",
      "       -3.93286087e-02,  4.58741225e-02,  6.36815503e-02,  1.33312449e-01,\n",
      "        6.28243014e-02,  3.02778911e-02,  3.52837369e-02,  7.72790564e-03,\n",
      "        6.95271268e-02, -3.48467492e-02, -8.72975066e-02,  9.25164390e-03,\n",
      "       -2.33223997e-02,  5.76284193e-02,  9.87061672e-03,  6.74524382e-02,\n",
      "        7.16621280e-02,  4.63656001e-02, -8.38780869e-03, -7.29120001e-02,\n",
      "       -4.29617167e-02,  1.64537299e-02, -6.38287142e-02, -1.41060203e-02,\n",
      "       -6.94770440e-02, -2.82413084e-02, -2.13141963e-02, -5.64025482e-03,\n",
      "       -2.79401187e-02, -3.15617286e-02, -7.33089969e-02, -2.27911714e-02,\n",
      "        1.01975845e-02,  5.00685126e-02,  1.77519098e-02,  3.51406522e-02,\n",
      "        1.02480836e-01, -9.12580080e-03,  5.85666019e-03,  5.19799218e-02,\n",
      "        3.71801369e-02,  1.15316929e-02,  3.93484347e-02,  2.73401737e-02,\n",
      "        1.97899411e-03, -1.07178492e-02,  4.86226380e-02, -4.56904694e-02,\n",
      "       -4.73299660e-02, -2.55912878e-02, -5.81937060e-02, -7.54567701e-03,\n",
      "        3.32879797e-02,  1.14684540e-03,  3.12017137e-03, -3.02367453e-02,\n",
      "        4.96353284e-02,  8.46017227e-02, -4.77875059e-04,  2.85867937e-02,\n",
      "        6.13939092e-02, -8.84848163e-02,  1.66932851e-01,  2.52355486e-02,\n",
      "       -8.50399733e-02, -5.74814416e-02, -8.43129978e-02, -3.53314541e-02,\n",
      "        1.53076733e-02,  2.06010696e-02, -2.06129570e-02, -1.05299540e-02,\n",
      "       -3.13176885e-02, -2.55268719e-02, -4.02367208e-03, -4.16857116e-02,\n",
      "       -1.59450974e-02, -9.68979597e-02, -2.22968422e-02, -8.81177839e-03,\n",
      "        9.94145032e-03,  8.04657675e-03, -2.45023258e-02, -3.05371024e-02,\n",
      "       -7.10093826e-02,  8.23587626e-02,  7.30081201e-02, -1.76119226e-08,\n",
      "        9.41390619e-02,  2.10316218e-02,  4.62418571e-02,  3.41556184e-02,\n",
      "        8.44550580e-02,  2.93263253e-02,  6.28477782e-02,  1.98899209e-02,\n",
      "        1.69233829e-02,  5.36875986e-02, -2.09501982e-02,  1.09185688e-01,\n",
      "        2.41746753e-02, -2.76360512e-02,  4.06514434e-03, -1.48166688e-02,\n",
      "        1.27347289e-02,  1.52123198e-02, -6.36977376e-03,  3.35929915e-02,\n",
      "       -4.82402854e-02, -9.14285034e-02,  4.00234722e-02,  1.35733206e-02,\n",
      "       -5.43925352e-02, -3.40936072e-02,  9.19591114e-02, -3.98328109e-03,\n",
      "        4.61830497e-02, -5.22549339e-02, -5.02683520e-02, -3.42637263e-02,\n",
      "        5.39188180e-03,  2.91174781e-02, -4.33639474e-02, -2.62354407e-02,\n",
      "        7.10452022e-03,  1.89416260e-02,  1.90801581e-03,  4.77567613e-02,\n",
      "       -2.76481546e-02, -5.62636275e-03,  1.83860213e-02, -1.66584402e-02,\n",
      "       -4.40113619e-03,  2.16570776e-02, -3.66806872e-02, -2.26683691e-02,\n",
      "       -6.55425489e-02,  1.99896824e-02,  3.46781984e-02,  1.83184203e-02,\n",
      "       -6.39450550e-02,  9.67051834e-04, -6.19707331e-02,  7.63373403e-03,\n",
      "       -2.56632231e-02, -4.67173569e-02, -1.27950469e-02, -3.17927040e-02,\n",
      "        3.84732224e-02, -6.95931166e-02,  6.66821450e-02,  1.00999419e-02],\n",
      "      dtype=float32), 'retrieved_chunks': ['of semaglutide were achieved between 4 to 165 hrs (median: 36 hrs (1.5 days)) and between 18 to 121 hrs (median 59.8 hrs (2.5 days)) post-dose in Studies NN9535-3635 and NN9535-3684, respectively. Geometric mean terminal t for semaglutide 1/2,SS was 149 hrs (~6.2 days) and 150 hrs (~6.3 days) in Studies NN9535-3635 and NN9535-3684, 22 Reference ID: 4142722 respectively. The estimated terminal t of semaglutide indicates that steady-state will be 1/2,SS achieved following 4-5 weeks of once weekly dosing in patients with T2DM. Figure 5: Geometric mean concentration-time plasma profile of semaglutide at steady-state following administration of 1 mg semaglutide dose in patients with T2DM in Study NN9535-3635, (A) Up to 840 hr (35 days) after the 5th dose, (B) Up to 168 hr (dosing interval) after the 5th dose (Source: Clinical study report NN9535-3635, page 131 and 616) Figure 6: Geometric mean concentration-time plasma profile of semaglutide at steady-state following administration of 1 mg semaglutide dose in patients with T2DM in Study NN9535-3684, (A) Up to 35 days after the 5th dose, (B) Up to 168 hr (dosing interval) after the 5th dose (Source: Clinical study report NN9535-3684, page 168 and 518) Geometric mean trough concentrations of semaglutide (after', 'bioavailability after SC administration of 0.5 mg semaglutide was estimated to be 89% (estimated treatment ratio (SC/IV) of geometric mean AUC was 0.89 [0.83; 0.94] ) 0-∞ 95%CI (refer to Appendix 5.1 for description of Study NN9535-3687). Similar geometric mean t (143 1/2 hr (SC), 137 hr (IV)), clearance (0.035 L/hr (SC), 0.031 L/hr (IV)), and volume of distribution (7.22 L (SC), 6.16 L (IV)) of semaglutide was evident following SC (0.5 mg) and IV (0.25 mg) dosing. Similar terminal t of semaglutide following IV and SC administration suggests the 1/2 absence of flip-flop kinetics after SC dosing. 3.2.1.2 Multiple-dose: Healthy Subjects and Patients with T2DM Healthy Subjects Geometric mean plasma concentration-time profiles of semaglutide at steady-state following administration of the last dose of 0.5 mg and 1 mg semaglutide in healthy Caucasian and Japanese subjects is presented in Figure 3 (refer to Appendix 5.1 for description of Study NN9535-3634). No difference in the PK of semaglutide was observed between the 2 subject populations (Caucasian and Japanese). In healthy Caucasian and Japanese subjects for both doses, maximum concentrations of semaglutide at steady-state were achieved between 30 to 36 hrs (1.3 to 1.5 days) post-dose. Geometric mean terminal t for semaglutide', 'is described below since this is the to-be-marketed drug product (used in the confirmatory Phase 3a studies and in a majority of the clinical pharmacology program). A single dose of 0.5 mg semaglutide was administered via the SC route (lifted skin fold of the thigh) in healthy subjects. Blood samples were collected up to Day 29 following dose administration to characterize the PK of semaglutide (refer to Appendix 5.1 for description of Study NN9535-4010). The mean plasma concentration-time profile for semaglutide is presented in Figure 2. Following SC administration, semaglutide was slowly absorbed into the systemic circulation and maximum concentrations were achieved between 24 to 122 hrs (~1 to 5 days; median: 95.6 hrs (~4 days)). The geometric mean terminal t for semaglutide was 155.1 hrs (~6.5 days). The overall PK 1/2 variability for C, AUC, AUC was low (CV%: 19-24%). max 0-tlast 0-∞ 17 Reference ID: 4142722 The absolute bioavailability after SC administration of 0.5 mg semaglutide was estimated to be 89% (estimated treatment ratio (SC/IV) of geometric mean AUC was 0.89 [0.83; 0.94] ) 0-∞ 95%CI (refer to Appendix 5.1 for description of Study NN9535-3687). Similar geometric mean t (143 1/2 hr (SC), 137 hr (IV)), clearance (0.035', 'additional proteolytic degradation. Mass balance study (metabolism and excretion) Study NN9535-3789, a mass balance study, was conducted to determine the metabolism and excretion characteristics of [3H]-semaglutide (Figure 7) following a single SC dose of 0.5 mg [3H]-semaglutide (up to 500 µCi) in healthy male subjects (refer to Appendix 5.1 for description of study). Figure 7: Structure of [3H]-semaglutide (Source: NN9535-3789, Clinical study report, page 30) Pharmacokinetics of semaglutide Geometric mean concentration-time profile of semaglutide in plasma is presented in Figure 8. Maximum concentrations of semaglutide (geometric mean: 10.9 nmol/L) was achieved at 56 hr following dose administration. The estimated geometric mean terminal t for semaglutide is 1/2 168.3 hrs (~7 days). Figure 8: Geometric mean concentration-time profile for semaglutide in plasma (Source: NN9535-3789, Clinical study report, page 91) 29 Reference ID: 4142722 Metabolite profile of semaglutide in plasma, urine and feces Plasma, urine, and feces samples were collected until the defined end criterion level was achieved (<0.5% of the administered dose was excreted in 2 consecutive samples). In plasma, 7 components were detected. The primary component (P4) was [3H]-semaglutide which accounted for 82.6% of total radioactivity based on AUC. Six metabolites (P1-P3 and last P5-P7) were detected in plasma, metabolite', 'No difference in the PK of semaglutide was observed between the 2 subject populations (Caucasian and Japanese). In healthy Caucasian and Japanese subjects for both doses, maximum concentrations of semaglutide at steady-state were achieved between 30 to 36 hrs (1.3 to 1.5 days) post-dose. Geometric mean terminal t for semaglutide was 145 to 159 hr (6-6.6 days) and 163 to 167 1/2,SS hrs (6.7-6.9 days) following 0.5 mg and 1 mg semaglutide, respectively. The estimated terminal t of semaglutide indicates that steady-state will be achieved following 4-5 weeks of once 1/2,SS weekly dosing in healthy Caucasian and Japanese subjects. Figure 3: Geometric mean concentration-time plasma profile of semaglutide at steady-state following administration of 0.5 mg and 1 mg semaglutide in healthy Caucasian and Japanese subjects (A) Up to 840 hr after the last dose, (B) Up to 168 hr (dosing interval) after the last dose (Source: Clinical study report NN9535-3634, page 92 and 95) 19 Reference ID: 4142722 In healthy subjects the increase in semaglutide exposure (AUC and C ) at steady-state with max increasing dose was consistent with dose-proportionality. Figure 4: At steady-state, PK parameters, (A) AUC, (B) AUC, (C) C 0-168hr,SS 0-48hr,SS max,SS versus semaglutide dose in healthy'], 'answer': 'The half-life of semaglutide is approximately 149 to 168 hours, which is about 6 to 7 days, depending on the study and administration method.'}\n"
     ]
    }
   ],
   "source": [
    "query = \"What is the half-life of Semaglutide?\"\n",
    "response = graph.invoke({\"query\": query})\n"
   ]
  },
  {
   "cell_type": "code",
   "execution_count": 14,
   "id": "6c99c575",
   "metadata": {},
   "outputs": [
    {
     "name": "stdout",
     "output_type": "stream",
     "text": [
      "The half-life of semaglutide is approximately 149 to 168 hours, which is about 6 to 7 days, depending on the study and administration method.\n"
     ]
    }
   ],
   "source": [
    "print(response[\"answer\"])"
   ]
  }
 ],
 "metadata": {
  "colab": {
   "provenance": []
  },
  "kernelspec": {
   "display_name": "venv",
   "language": "python",
   "name": "python3"
  },
  "language_info": {
   "codemirror_mode": {
    "name": "ipython",
    "version": 3
   },
   "file_extension": ".py",
   "mimetype": "text/x-python",
   "name": "python",
   "nbconvert_exporter": "python",
   "pygments_lexer": "ipython3",
   "version": "3.9.12"
  }
 },
 "nbformat": 4,
 "nbformat_minor": 5
}
